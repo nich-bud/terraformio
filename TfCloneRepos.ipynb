{
 "cells": [
  {
   "cell_type": "code",
   "execution_count": null,
   "metadata": {},
   "outputs": [],
   "source": [
    "using LibGit2\n",
    "using JSON"
   ]
  },
  {
   "cell_type": "code",
   "execution_count": null,
   "metadata": {},
   "outputs": [],
   "source": [
    "function GetMostRecentJsonFile(folderContainingRegistryJson::String, objectType::String)\n",
    "    for filename in readdir(folderContainingRegistryJson, sort=true)\n",
    "        if startswith(filename, objectType)\n",
    "            return joinpath(folderContainingRegistryJson, filename)\n",
    "        end\n",
    "    end\n",
    "end\n",
    "\n",
    "function GetJson(reposJsonFilepath)\n",
    "    io = open(reposJsonFilepath, \"r\")\n",
    "    reposJson = String(read(io))\n",
    "    close(io)\n",
    "    json = JSON.parse(reposJson)\n",
    "    return json \n",
    "end\n",
    "\n",
    "function GetReposJson(objectType::String)\n",
    "    reposJsonFilepath = GetMostRecentJsonFile(\"TfRegistry2JSON\", objectType)\n",
    "    return GetJson(reposJsonFilepath)\n",
    "end"
   ]
  },
  {
   "cell_type": "code",
   "execution_count": null,
   "metadata": {},
   "outputs": [],
   "source": [
    "function InitializeVariables(reposJson)\n",
    "   return 0, length(reposJson), Vector{Any}(), Vector{String}() \n",
    "end"
   ]
  },
  {
   "cell_type": "code",
   "execution_count": null,
   "metadata": {},
   "outputs": [],
   "source": [
    "function PrepareSubfolderWrite(objectType::String)\n",
    "    subfolder = \"TfCloneRepos_\" * objectType\n",
    "    if ! isdir(subfolder)\n",
    "        mkdir(subfolder)\n",
    "    end\n",
    "    return joinpath(pwd(), subfolder)\n",
    "end"
   ]
  },
  {
   "cell_type": "code",
   "execution_count": null,
   "metadata": {},
   "outputs": [],
   "source": [
    "function PrepareRepoSubfolderWrite(subfolderPath, username, reponame)\n",
    "    userFolder = joinpath(subfolderPath, username)\n",
    "    if ! isdir(userFolder)\n",
    "        mkdir(userFolder)\n",
    "    end\n",
    "    repoFolder = joinpath(userFolder, reponame)\n",
    "    if ! isdir(repoFolder)\n",
    "        mkdir(repoFolder)\n",
    "    end\n",
    "    versionFolder = joinpath(repoFolder, \"main\")\n",
    "    if ! isdir(versionFolder)\n",
    "        mkdir(versionFolder)\n",
    "        return versionFolder\n",
    "    else\n",
    "        # We also need to remove folders that are empty, to save errors later\n",
    "        if (length(readdir(versionFolder)) == 0)\n",
    "            rm(versionFolder)\n",
    "        end\n",
    "        return \"\"\n",
    "    end\n",
    "end"
   ]
  },
  {
   "cell_type": "code",
   "execution_count": null,
   "metadata": {},
   "outputs": [],
   "source": [
    "function CloneRepo(githubUrl, mainFolder, errors)\n",
    "    print(\"Cloning : \" * githubUrl)\n",
    "    try\n",
    "        repo = LibGit2.clone(githubUrl, mainFolder, callbacks = LibGit2.Callbacks(:credentials => (C_NULL, 0)))\n",
    "        println(\", done.\")\n",
    "        return repo\n",
    "    catch err\n",
    "        push!(errors, githubUrl * \" - \" * string(err))\n",
    "        println(\"\\n\\tError. \" * githubUrl * \" - \" * string(err))\n",
    "    end\n",
    "end"
   ]
  },
  {
   "cell_type": "code",
   "execution_count": null,
   "metadata": {},
   "outputs": [],
   "source": [
    "function CloneAllRepos(objectType::String)\n",
    "    \n",
    "    reposJson = GetReposJson(objectType)\n",
    "    \n",
    "    subfolderPath = PrepareSubfolderWrite(objectType)\n",
    "    \n",
    "    count, total = 0, length(reposJson)\n",
    "    errors = Vector{Any}()\n",
    "    \n",
    "    for repoKey in collect(keys(reposJson))\n",
    "        \n",
    "        count += 1\n",
    "        print(\"$count out of $total : \")\n",
    "        \n",
    "        username, reponame = split(repoKey, \"/\")\n",
    "        mainFolder = PrepareRepoSubfolderWrite(subfolderPath, username, reponame)\n",
    "        \n",
    "        # We already have a version of this repo, we're supposed to add new repos\n",
    "        if mainFolder == \"\"\n",
    "            println()\n",
    "            continue\n",
    "        end\n",
    "        \n",
    "        # Clone the new repo\n",
    "        githubUrl = \"https://github.com/\" * username * \"/\" * reponame\n",
    "        repo = CloneRepo(githubUrl, mainFolder, errors)\n",
    "    end\n",
    "    \n",
    "    println(\"num errors: \" * string(length(errors)))\n",
    "    return errors\n",
    "end"
   ]
  },
  {
   "cell_type": "code",
   "execution_count": null,
   "metadata": {},
   "outputs": [],
   "source": [
    "@time errorProviders = CloneAllRepos(\"providers\")"
   ]
  },
  {
   "cell_type": "code",
   "execution_count": null,
   "metadata": {},
   "outputs": [],
   "source": [
    "@time errorModules = CloneAllRepos(\"modules\")"
   ]
  }
 ],
 "metadata": {
  "kernelspec": {
   "display_name": "Julia 1.5.2",
   "language": "julia",
   "name": "julia-1.5"
  },
  "language_info": {
   "file_extension": ".jl",
   "mimetype": "application/julia",
   "name": "julia",
   "version": "1.5.2"
  }
 },
 "nbformat": 4,
 "nbformat_minor": 4
}
