{
 "cells": [
  {
   "cell_type": "markdown",
   "metadata": {},
   "source": [
    "# Terraform Registry to JSON\n",
    "\n",
    "### 1. HTTP.get()\n",
    "### 2. JSON.write()"
   ]
  },
  {
   "cell_type": "code",
   "execution_count": null,
   "metadata": {
    "scrolled": true
   },
   "outputs": [],
   "source": [
    "using HTTP\n",
    "using JSON\n",
    "using Dates"
   ]
  },
  {
   "cell_type": "code",
   "execution_count": null,
   "metadata": {},
   "outputs": [],
   "source": [
    "function SaveJSONToFile(objectType::String, dictionaryOfAllRepos::Dict{String,Dict{String,Any}})\n",
    "    \n",
    "    # Create a subfolder of this folder called \"terraform-registry\"\n",
    "    subfolderpath = joinpath(pwd(), \"TfRegistry2JSON\")\n",
    "    if !isdir(subfolderpath)\n",
    "        mkdir(subfolderpath)\n",
    "    end\n",
    "\n",
    "    # Name the file \"(providers || modules)_(today's date).json\"\n",
    "    filename = \n",
    "        objectType * \"_\" * \n",
    "        string(Dates.today()) * \n",
    "        \".json\"\n",
    "    \n",
    "    filepath = joinpath(subfolderpath, filename)\n",
    "\n",
    "    # Write the JSON to the file\n",
    "    file = open(filepath, \"w\")\n",
    "    JSON.print(file, dictionaryOfAllRepos)\n",
    "    close(file)\n",
    "end"
   ]
  },
  {
   "cell_type": "code",
   "execution_count": null,
   "metadata": {},
   "outputs": [],
   "source": [
    "function GetAllObjectsFromRegistry(objectType::String)\n",
    "    \n",
    "    request = HTTP.get(\n",
    "        \"https://registry.terraform.io/v2/\" * \n",
    "        objectType * \n",
    "        \"?page%5Bsize%5D=100\")\n",
    "    \n",
    "    dictionaryOfAllRegistryObjects = Dict{String, Dict{String,Any}}()\n",
    "\n",
    "    while true\n",
    "\n",
    "        # Parse HTTP payload into JSON\n",
    "        httpGetRegistryObjectsBodyString = String(request.body)\n",
    "        jsonRepos = JSON.parse(httpGetRegistryObjectsBodyString)\n",
    "\n",
    "        # Iterate through all JSON objects (max = 100)\n",
    "        for jsonRepo in jsonRepos[\"data\"]\n",
    "\n",
    "            # Put the \"id\" attribute in our subobject\n",
    "            jsonRepo[\"attributes\"][\"id\"] = jsonRepo[\"id\"]\n",
    "\n",
    "            # Remove the prefix \"https://github.com/\" from the repoKey\n",
    "            usernameReponame = jsonRepo[\"attributes\"][\"source\"][19:end]\n",
    "\n",
    "            # Put the user/repo key --> object\n",
    "            dictionaryOfAllRegistryObjects[usernameReponame] = jsonRepo[\"attributes\"]\n",
    "        end\n",
    "\n",
    "        # Break the infinite loop! \n",
    "        if jsonRepos[\"links\"][\"next\"] == nothing\n",
    "            break\n",
    "        end\n",
    "\n",
    "        # Or Get More! \n",
    "        sleep(1)\n",
    "        request = HTTP.get(\"https://registry.terraform.io/\" * jsonRepos[\"links\"][\"next\"])\n",
    "    end\n",
    "\n",
    "    # Save it all to file\n",
    "    SaveJSONToFile(objectType, dictionaryOfAllRegistryObjects)\n",
    "end"
   ]
  },
  {
   "cell_type": "code",
   "execution_count": null,
   "metadata": {},
   "outputs": [],
   "source": [
    "@time GetAllObjectsFromRegistry(\"providers\")"
   ]
  },
  {
   "cell_type": "code",
   "execution_count": null,
   "metadata": {},
   "outputs": [],
   "source": [
    "@time GetAllObjectsFromRegistry(\"modules\")"
   ]
  }
 ],
 "metadata": {
  "kernelspec": {
   "display_name": "Julia 1.5.2",
   "language": "julia",
   "name": "julia-1.5"
  },
  "language_info": {
   "file_extension": ".jl",
   "mimetype": "application/julia",
   "name": "julia",
   "version": "1.5.2"
  }
 },
 "nbformat": 4,
 "nbformat_minor": 4
}
