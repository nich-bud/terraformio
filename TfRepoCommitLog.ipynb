{
 "cells": [
  {
   "cell_type": "code",
   "execution_count": null,
   "metadata": {},
   "outputs": [],
   "source": [
    "using LibGit2\n",
    "using Dates\n",
    "using JSON"
   ]
  },
  {
   "cell_type": "code",
   "execution_count": null,
   "metadata": {},
   "outputs": [],
   "source": [
    "function GetAllCommits(master_repo)\n",
    "    return LibGit2.with(LibGit2.GitRevWalker(master_repo)) do walker\n",
    "        LibGit2.map((hash, repo)->LibGit2.GitCommit(repo, hash), walker, by=LibGit2.Consts.SORT_TIME)\n",
    "    end\n",
    "end"
   ]
  },
  {
   "cell_type": "code",
   "execution_count": null,
   "metadata": {},
   "outputs": [],
   "source": [
    "function GetTaggedCommits(repo)\n",
    "    taggedCommits = Dict{String, LibGit2.GitCommit}()\n",
    "    tagStrings = LibGit2.tag_list(repo)\n",
    "    for tagString in tagStrings\n",
    "        oid = LibGit2.GitObject(repo, tagString)\n",
    "        commit = LibGit2.peel(LibGit2.GitCommit, oid)\n",
    "        taggedCommits[tagString] = commit\n",
    "    end\n",
    "    return taggedCommits\n",
    "end"
   ]
  },
  {
   "cell_type": "code",
   "execution_count": null,
   "metadata": {},
   "outputs": [],
   "source": [
    "function GetCommitKey(repo)\n",
    "    commitHash = string(LibGit2.GitHash(commit))\n",
    "    return joinpath(userName, repoName, commitHash)\n",
    "end"
   ]
  },
  {
   "cell_type": "code",
   "execution_count": null,
   "metadata": {},
   "outputs": [],
   "source": [
    "function GetJSONOfAllCommits(rootFolder::String)\n",
    "    \n",
    "    # username/reponame/commitHash --> [\"commitAttribute\"] = commitValue\n",
    "    dictionaryOfAllCommits = Dict{String, Dict{String,Any}}()\n",
    "    \n",
    "    userNames = readdir(rootFolder)\n",
    "    for userName in userNames\n",
    "        \n",
    "        repoNames = readdir(joinpath(rootFolder, userName))\n",
    "        for repoName in repoNames\n",
    "            \n",
    "            repoPath = joinpath(rootFolder, userName, repoName, \"main\")\n",
    "            \n",
    "            # Some folders are empty\n",
    "            if ! isdir(repoPath)\n",
    "                continue\n",
    "            end\n",
    "            \n",
    "            repo = LibGit2.GitRepo(repoPath)\n",
    "\n",
    "            commits = GetAllCommits(repo)\n",
    "            for commit in commits\n",
    "                commitKey = GetCommitKey(repo)\n",
    "                dictionaryOfAllCommits[commitKey] = Dict{String, Any}()\n",
    "                commitAttributes = dictionaryOfAllCommits[commitKey]\n",
    "                commitAttributes[\"authorName\"] = LibGit2.author(commit).name\n",
    "                commitAttributes[\"authorEmail\"] = LibGit2.author(commit).email\n",
    "                commitAttributes[\"committerName\"] = LibGit2.committer(commit).name\n",
    "                commitAttributes[\"committerEmail\"] = LibGit2.committer(commit).email\n",
    "                commitAttributes[\"dateTime\"] = string(Dates.unix2datetime(LibGit2.author(commit).time))\n",
    "                commitAttributes[\"message\"] = LibGit2.message(commit)\n",
    "                commitAttributes[\"isTagged\"] = 0\n",
    "                commitAttributes[\"tagName\"] = \"\"\n",
    "            end\n",
    "            \n",
    "            taggedCommits = GetTaggedCommits(repo)\n",
    "            for (tag, commit) in taggedCommits\n",
    "                commitKey = GetCommitKey(repo)\n",
    "                if ! haskey(dictionaryOfAllCommits, commitKey)\n",
    "                    println(commitHash)\n",
    "                else \n",
    "                    println(\"success\")\n",
    "                    commitAttributes = dictionaryOfAllCommits[commitKey]\n",
    "                    commitAttributes[\"isTagged\"] = 1\n",
    "                    commitAttributes[\"tagName\"] = tag\n",
    "                end\n",
    "            end\n",
    "        end\n",
    "    end\n",
    "    return dictionaryOfAllCommits\n",
    "end"
   ]
  },
  {
   "cell_type": "code",
   "execution_count": null,
   "metadata": {},
   "outputs": [],
   "source": [
    "# cd(\"..\")\n",
    "pwd()"
   ]
  },
  {
   "cell_type": "code",
   "execution_count": null,
   "metadata": {},
   "outputs": [],
   "source": [
    "providerPath = joinpath(pwd(), \"TfCloneRepos_providers\")\n",
    "providerCommitJson = GetJSONOfAllCommits(providerPath)"
   ]
  },
  {
   "cell_type": "code",
   "execution_count": null,
   "metadata": {},
   "outputs": [],
   "source": [
    "modulePath = joinpath(pwd(), \"TfCloneRepos_modules\")\n",
    "moduleCommitJson = GetJSONOfAllCommits(modulePath)"
   ]
  },
  {
   "cell_type": "code",
   "execution_count": null,
   "metadata": {},
   "outputs": [],
   "source": [
    "function SaveJSONToFile(objectType::String, dictionaryOfAllCommits::Dict{String,Dict{String,Any}})\n",
    "    \n",
    "    # Create a subfolder of this folder called \"terraform-registry\"\n",
    "    subfolderpath = joinpath(pwd(), \"TfRepoCommitLog\")\n",
    "    if !isdir(subfolderpath)\n",
    "        mkdir(subfolderpath)\n",
    "    end\n",
    "\n",
    "    # Name the file \"(providers || modules)_(today's date).json\"\n",
    "    filename = \n",
    "        objectType * \"_\" * \n",
    "        string(Dates.today()) * \n",
    "        \".json\"\n",
    "    \n",
    "    filepath = joinpath(subfolderpath, filename)\n",
    "\n",
    "    # Write the JSON to the file\n",
    "    file = open(filepath, \"w\")\n",
    "    JSON.print(file, dictionaryOfAllCommits)\n",
    "    close(file)\n",
    "end"
   ]
  },
  {
   "cell_type": "code",
   "execution_count": null,
   "metadata": {},
   "outputs": [],
   "source": [
    "SaveJSONToFile(\"providers\", providerCommitJson)"
   ]
  },
  {
   "cell_type": "code",
   "execution_count": null,
   "metadata": {},
   "outputs": [],
   "source": [
    "SaveJSONToFile(\"providers\", providerCommitJson)# Do statistics on commits?"
   ]
  },
  {
   "cell_type": "code",
   "execution_count": null,
   "metadata": {},
   "outputs": [],
   "source": [
    "# Do statistics on commits?"
   ]
  }
 ],
 "metadata": {
  "kernelspec": {
   "display_name": "Julia 1.5.2",
   "language": "julia",
   "name": "julia-1.5"
  },
  "language_info": {
   "file_extension": ".jl",
   "mimetype": "application/julia",
   "name": "julia",
   "version": "1.5.2"
  }
 },
 "nbformat": 4,
 "nbformat_minor": 4
}
